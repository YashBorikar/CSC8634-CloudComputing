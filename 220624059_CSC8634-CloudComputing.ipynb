{
 "cells": [
  {
   "cell_type": "markdown",
   "id": "916a7fc9",
   "metadata": {},
   "source": [
    "Student Number: <b>220624059</b>\\\n",
    "Name: <b>Yash Borikar</b>\\\n",
    "Subject: <b>CSC8634 - Cloud Computing</b>\\\n",
    "Dataset: <b>Performance evaluation of Terapixel rendering in Cloud Computing</b>\\\n",
    "Date: <b>May 8, 2023</b>"
   ]
  },
  {
   "cell_type": "markdown",
   "id": "5ff1312e",
   "metadata": {},
   "source": [
    "---"
   ]
  },
  {
   "cell_type": "markdown",
   "id": "2529e1b6",
   "metadata": {},
   "source": [
    "# Introduction"
   ]
  },
  {
   "cell_type": "markdown",
   "id": "5ff79d93",
   "metadata": {},
   "source": [
    "# Methodology"
   ]
  },
  {
   "cell_type": "markdown",
   "id": "a0d69bfa",
   "metadata": {},
   "source": [
    "## 1. Business Understanding"
   ]
  },
  {
   "cell_type": "markdown",
   "id": "8a620040",
   "metadata": {},
   "source": [
    "## 2. Data understanding"
   ]
  },
  {
   "cell_type": "markdown",
   "id": "d3564579",
   "metadata": {},
   "source": [
    "## 3. Data Exploration"
   ]
  },
  {
   "cell_type": "markdown",
   "id": "c04ca796",
   "metadata": {},
   "source": [
    "#### 3.1 Importing Libraries"
   ]
  },
  {
   "cell_type": "code",
   "execution_count": 6,
   "id": "2a8a52e1",
   "metadata": {},
   "outputs": [],
   "source": [
    "# Basic libraries\n",
    "import os\n",
    "import csv\n",
    "\n",
    "# Library for Data operation\n",
    "import numpy as np\n",
    "import pandas as pd\n",
    "import seaborn as sns\n",
    "import matplotlib.pyplot as plt\n",
    "\n",
    "# Library plotly for plotting graphs\n",
    "import plotly.express as px\n",
    "import plotly.graph_objects as go"
   ]
  },
  {
   "cell_type": "markdown",
   "id": "f1ba88ff",
   "metadata": {},
   "source": [
    "#### 3.2 Importing Datafiles"
   ]
  },
  {
   "cell_type": "code",
   "execution_count": 7,
   "id": "cb1c4b1f",
   "metadata": {},
   "outputs": [],
   "source": [
    "# Function to import, extract csv files\n",
    "def extract_csv(directory):\n",
    "    with open(directory, 'r', encoding=\"utf-8\") as file:\n",
    "        dataframe = pd.read_csv(file)\n",
    "    return dataframe"
   ]
  },
  {
   "cell_type": "markdown",
   "id": "a5e3534d",
   "metadata": {},
   "source": [
    "Note: All Data Files are to be kept in Data folder of current directory"
   ]
  },
  {
   "cell_type": "code",
   "execution_count": 8,
   "id": "cffcab86",
   "metadata": {},
   "outputs": [],
   "source": [
    "# Change directory to Data files if notebook is executed on google collab\n",
    "directory = './Data/'"
   ]
  },
  {
   "cell_type": "code",
   "execution_count": 9,
   "id": "d6c974d6",
   "metadata": {},
   "outputs": [],
   "source": [
    "# Extract all Data file\n",
    "df_checkpoints = extract_csv(directory + 'application-checkpoints.csv')\n",
    "df_task_xy = extract_csv(directory + 'task-x-y.csv')\n",
    "df_gpu = extract_csv(directory + 'gpu.csv')"
   ]
  },
  {
   "cell_type": "markdown",
   "id": "69d5fc9c",
   "metadata": {},
   "source": [
    "#### 3.3 Exploring Datafiles"
   ]
  },
  {
   "cell_type": "code",
   "execution_count": 10,
   "id": "786222f1",
   "metadata": {},
   "outputs": [
    {
     "data": {
      "text/html": [
       "<div>\n",
       "<style scoped>\n",
       "    .dataframe tbody tr th:only-of-type {\n",
       "        vertical-align: middle;\n",
       "    }\n",
       "\n",
       "    .dataframe tbody tr th {\n",
       "        vertical-align: top;\n",
       "    }\n",
       "\n",
       "    .dataframe thead th {\n",
       "        text-align: right;\n",
       "    }\n",
       "</style>\n",
       "<table border=\"1\" class=\"dataframe\">\n",
       "  <thead>\n",
       "    <tr style=\"text-align: right;\">\n",
       "      <th></th>\n",
       "      <th>timestamp</th>\n",
       "      <th>hostname</th>\n",
       "      <th>eventName</th>\n",
       "      <th>eventType</th>\n",
       "      <th>jobId</th>\n",
       "      <th>taskId</th>\n",
       "    </tr>\n",
       "  </thead>\n",
       "  <tbody>\n",
       "    <tr>\n",
       "      <th>263223</th>\n",
       "      <td>2018-11-08T08:30:16.345Z</td>\n",
       "      <td>6139a35676de44d6b61ec247f0ed8657000013</td>\n",
       "      <td>Uploading</td>\n",
       "      <td>STOP</td>\n",
       "      <td>1024-lvl12-7e026be3-5fd0-48ee-b7d1-abd61f747705</td>\n",
       "      <td>09f07f53-8b9a-46ce-ae80-ef57bfcdc14e</td>\n",
       "    </tr>\n",
       "    <tr>\n",
       "      <th>75919</th>\n",
       "      <td>2018-11-08T08:30:16.345Z</td>\n",
       "      <td>6139a35676de44d6b61ec247f0ed8657000013</td>\n",
       "      <td>TotalRender</td>\n",
       "      <td>STOP</td>\n",
       "      <td>1024-lvl12-7e026be3-5fd0-48ee-b7d1-abd61f747705</td>\n",
       "      <td>09f07f53-8b9a-46ce-ae80-ef57bfcdc14e</td>\n",
       "    </tr>\n",
       "    <tr>\n",
       "      <th>75922</th>\n",
       "      <td>2018-11-08T08:30:16.277Z</td>\n",
       "      <td>6139a35676de44d6b61ec247f0ed8657000013</td>\n",
       "      <td>Tiling</td>\n",
       "      <td>STOP</td>\n",
       "      <td>1024-lvl12-7e026be3-5fd0-48ee-b7d1-abd61f747705</td>\n",
       "      <td>09f07f53-8b9a-46ce-ae80-ef57bfcdc14e</td>\n",
       "    </tr>\n",
       "  </tbody>\n",
       "</table>\n",
       "</div>"
      ],
      "text/plain": [
       "                       timestamp                                hostname  \\\n",
       "263223  2018-11-08T08:30:16.345Z  6139a35676de44d6b61ec247f0ed8657000013   \n",
       "75919   2018-11-08T08:30:16.345Z  6139a35676de44d6b61ec247f0ed8657000013   \n",
       "75922   2018-11-08T08:30:16.277Z  6139a35676de44d6b61ec247f0ed8657000013   \n",
       "\n",
       "          eventName eventType  \\\n",
       "263223    Uploading      STOP   \n",
       "75919   TotalRender      STOP   \n",
       "75922        Tiling      STOP   \n",
       "\n",
       "                                                  jobId  \\\n",
       "263223  1024-lvl12-7e026be3-5fd0-48ee-b7d1-abd61f747705   \n",
       "75919   1024-lvl12-7e026be3-5fd0-48ee-b7d1-abd61f747705   \n",
       "75922   1024-lvl12-7e026be3-5fd0-48ee-b7d1-abd61f747705   \n",
       "\n",
       "                                      taskId  \n",
       "263223  09f07f53-8b9a-46ce-ae80-ef57bfcdc14e  \n",
       "75919   09f07f53-8b9a-46ce-ae80-ef57bfcdc14e  \n",
       "75922   09f07f53-8b9a-46ce-ae80-ef57bfcdc14e  "
      ]
     },
     "execution_count": 10,
     "metadata": {},
     "output_type": "execute_result"
    }
   ],
   "source": [
    "# Data frame of checkpoint file\n",
    "df_checkpoints = df_checkpoints.sort_values(by='timestamp', ascending=False)\n",
    "df_checkpoints.head(3)"
   ]
  },
  {
   "cell_type": "markdown",
   "id": "be4e8618",
   "metadata": {},
   "source": [
    "<b>Summary of Checkpoint File:</b>\n",
    "- Checkpoint file consist of checkpoints throughout execution of rendering job. \n",
    "- It contains <b>660400 Rows</b> and <b>6 Columns</b>\n",
    "- 6 variables:\n",
    "    - <b>timestamp:</b> Timestamp  of each event occurance\n",
    "    - <b>hostname: </b> Hostname of Azure virtual machine\n",
    "    - <b>eventName: </b> Name of Event occuring (Saving Config, Render, Tiling, Uploading, Total Render)\n",
    "    - <b>eventType: </b> Notes if current status of event (START, STOP)\n",
    "    - <b>jobId: </b> Id of Azure batch job\n",
    "    - <b>taskId: </b> Id of Azure batch task\n",
    "- Primary important variable are timestamp, eventName, eventType, taskId to calculate execution time of each task."
   ]
  },
  {
   "cell_type": "code",
   "execution_count": 16,
   "id": "439b859a",
   "metadata": {},
   "outputs": [
    {
     "data": {
      "text/html": [
       "<div>\n",
       "<style scoped>\n",
       "    .dataframe tbody tr th:only-of-type {\n",
       "        vertical-align: middle;\n",
       "    }\n",
       "\n",
       "    .dataframe tbody tr th {\n",
       "        vertical-align: top;\n",
       "    }\n",
       "\n",
       "    .dataframe thead th {\n",
       "        text-align: right;\n",
       "    }\n",
       "</style>\n",
       "<table border=\"1\" class=\"dataframe\">\n",
       "  <thead>\n",
       "    <tr style=\"text-align: right;\">\n",
       "      <th></th>\n",
       "      <th>taskId</th>\n",
       "      <th>jobId</th>\n",
       "      <th>x</th>\n",
       "      <th>y</th>\n",
       "      <th>level</th>\n",
       "    </tr>\n",
       "  </thead>\n",
       "  <tbody>\n",
       "    <tr>\n",
       "      <th>0</th>\n",
       "      <td>00004e77-304c-4fbd-88a1-1346ef947567</td>\n",
       "      <td>1024-lvl12-7e026be3-5fd0-48ee-b7d1-abd61f747705</td>\n",
       "      <td>116</td>\n",
       "      <td>178</td>\n",
       "      <td>12</td>\n",
       "    </tr>\n",
       "    <tr>\n",
       "      <th>1</th>\n",
       "      <td>0002afb5-d05e-4da9-bd53-7b6dc19ea6d4</td>\n",
       "      <td>1024-lvl12-7e026be3-5fd0-48ee-b7d1-abd61f747705</td>\n",
       "      <td>142</td>\n",
       "      <td>190</td>\n",
       "      <td>12</td>\n",
       "    </tr>\n",
       "    <tr>\n",
       "      <th>2</th>\n",
       "      <td>0003c380-4db9-49fb-8e1c-6f8ae466ad85</td>\n",
       "      <td>1024-lvl12-7e026be3-5fd0-48ee-b7d1-abd61f747705</td>\n",
       "      <td>142</td>\n",
       "      <td>86</td>\n",
       "      <td>12</td>\n",
       "    </tr>\n",
       "  </tbody>\n",
       "</table>\n",
       "</div>"
      ],
      "text/plain": [
       "                                 taskId  \\\n",
       "0  00004e77-304c-4fbd-88a1-1346ef947567   \n",
       "1  0002afb5-d05e-4da9-bd53-7b6dc19ea6d4   \n",
       "2  0003c380-4db9-49fb-8e1c-6f8ae466ad85   \n",
       "\n",
       "                                             jobId    x    y  level  \n",
       "0  1024-lvl12-7e026be3-5fd0-48ee-b7d1-abd61f747705  116  178     12  \n",
       "1  1024-lvl12-7e026be3-5fd0-48ee-b7d1-abd61f747705  142  190     12  \n",
       "2  1024-lvl12-7e026be3-5fd0-48ee-b7d1-abd61f747705  142   86     12  "
      ]
     },
     "execution_count": 16,
     "metadata": {},
     "output_type": "execute_result"
    }
   ],
   "source": [
    "# Data frame of task x, y file\n",
    "df_task_xy.head(3)"
   ]
  },
  {
   "cell_type": "markdown",
   "id": "b869ae74",
   "metadata": {},
   "source": [
    "<b>Summary of task X, Y File:</b>\n",
    "- task-x-y file consist of taskId ,jobId of Azure batch allocated to generate X, Y cooridate of image\n",
    "- It contains <b>65793 Rows</b> and <b>5 Columns</b>\n",
    "- 5 variables:\n",
    "    - <b>taskId: </b> Id of Azure batch task\n",
    "    - <b>jobId: </b> Id of Azure batch job\n",
    "    - <b>x: </b> X coordinate of image\n",
    "    - <b>y: </b> Y coordinate of image\n",
    "    - <b>Level: </b> Zoom Level (4, 8, 12)\n",
    "\n",
    "- Primary important variable are taskId, x, y, Level to relate Azure resource allocated for image visuals."
   ]
  },
  {
   "cell_type": "code",
   "execution_count": 21,
   "id": "b633b5d5",
   "metadata": {},
   "outputs": [
    {
     "data": {
      "text/html": [
       "<div>\n",
       "<style scoped>\n",
       "    .dataframe tbody tr th:only-of-type {\n",
       "        vertical-align: middle;\n",
       "    }\n",
       "\n",
       "    .dataframe tbody tr th {\n",
       "        vertical-align: top;\n",
       "    }\n",
       "\n",
       "    .dataframe thead th {\n",
       "        text-align: right;\n",
       "    }\n",
       "</style>\n",
       "<table border=\"1\" class=\"dataframe\">\n",
       "  <thead>\n",
       "    <tr style=\"text-align: right;\">\n",
       "      <th></th>\n",
       "      <th>timestamp</th>\n",
       "      <th>hostname</th>\n",
       "      <th>gpuSerial</th>\n",
       "      <th>gpuUUID</th>\n",
       "      <th>powerDrawWatt</th>\n",
       "      <th>gpuTempC</th>\n",
       "      <th>gpuUtilPerc</th>\n",
       "      <th>gpuMemUtilPerc</th>\n",
       "    </tr>\n",
       "  </thead>\n",
       "  <tbody>\n",
       "    <tr>\n",
       "      <th>0</th>\n",
       "      <td>2018-11-08T08:27:10.314Z</td>\n",
       "      <td>8b6a0eebc87b4cb2b0539e81075191b900001C</td>\n",
       "      <td>3.232170e+11</td>\n",
       "      <td>GPU-1d1602dc-f615-a7c7-ab53-fb4a7a479534</td>\n",
       "      <td>131.55</td>\n",
       "      <td>48</td>\n",
       "      <td>92</td>\n",
       "      <td>53</td>\n",
       "    </tr>\n",
       "    <tr>\n",
       "      <th>1</th>\n",
       "      <td>2018-11-08T08:27:10.192Z</td>\n",
       "      <td>d8241877cd994572b46c861e5d144c85000000</td>\n",
       "      <td>3.236170e+11</td>\n",
       "      <td>GPU-04a2dea7-f4f1-12d0-b94d-996446746e6f</td>\n",
       "      <td>117.03</td>\n",
       "      <td>40</td>\n",
       "      <td>92</td>\n",
       "      <td>48</td>\n",
       "    </tr>\n",
       "    <tr>\n",
       "      <th>2</th>\n",
       "      <td>2018-11-08T08:27:10.842Z</td>\n",
       "      <td>db871cd77a544e13bc791a64a0c8ed50000006</td>\n",
       "      <td>3.232170e+11</td>\n",
       "      <td>GPU-f4597939-a0b4-e78a-2436-12dbab9a350f</td>\n",
       "      <td>121.64</td>\n",
       "      <td>45</td>\n",
       "      <td>91</td>\n",
       "      <td>44</td>\n",
       "    </tr>\n",
       "  </tbody>\n",
       "</table>\n",
       "</div>"
      ],
      "text/plain": [
       "                  timestamp                                hostname  \\\n",
       "0  2018-11-08T08:27:10.314Z  8b6a0eebc87b4cb2b0539e81075191b900001C   \n",
       "1  2018-11-08T08:27:10.192Z  d8241877cd994572b46c861e5d144c85000000   \n",
       "2  2018-11-08T08:27:10.842Z  db871cd77a544e13bc791a64a0c8ed50000006   \n",
       "\n",
       "      gpuSerial                                   gpuUUID  powerDrawWatt  \\\n",
       "0  3.232170e+11  GPU-1d1602dc-f615-a7c7-ab53-fb4a7a479534         131.55   \n",
       "1  3.236170e+11  GPU-04a2dea7-f4f1-12d0-b94d-996446746e6f         117.03   \n",
       "2  3.232170e+11  GPU-f4597939-a0b4-e78a-2436-12dbab9a350f         121.64   \n",
       "\n",
       "   gpuTempC  gpuUtilPerc  gpuMemUtilPerc  \n",
       "0        48           92              53  \n",
       "1        40           92              48  \n",
       "2        45           91              44  "
      ]
     },
     "execution_count": 21,
     "metadata": {},
     "output_type": "execute_result"
    }
   ],
   "source": [
    "# Dataframe of GPU file\n",
    "df_gpu.head(3)"
   ]
  },
  {
   "cell_type": "code",
   "execution_count": 20,
   "id": "07036f68",
   "metadata": {},
   "outputs": [
    {
     "data": {
      "text/html": [
       "<div>\n",
       "<style scoped>\n",
       "    .dataframe tbody tr th:only-of-type {\n",
       "        vertical-align: middle;\n",
       "    }\n",
       "\n",
       "    .dataframe tbody tr th {\n",
       "        vertical-align: top;\n",
       "    }\n",
       "\n",
       "    .dataframe thead th {\n",
       "        text-align: right;\n",
       "    }\n",
       "</style>\n",
       "<table border=\"1\" class=\"dataframe\">\n",
       "  <thead>\n",
       "    <tr style=\"text-align: right;\">\n",
       "      <th></th>\n",
       "      <th>gpuSerial</th>\n",
       "      <th>powerDrawWatt</th>\n",
       "      <th>gpuTempC</th>\n",
       "      <th>gpuUtilPerc</th>\n",
       "      <th>gpuMemUtilPerc</th>\n",
       "    </tr>\n",
       "  </thead>\n",
       "  <tbody>\n",
       "    <tr>\n",
       "      <th>count</th>\n",
       "      <td>1.048575e+06</td>\n",
       "      <td>1.048575e+06</td>\n",
       "      <td>1.048575e+06</td>\n",
       "      <td>1.048575e+06</td>\n",
       "      <td>1.048575e+06</td>\n",
       "    </tr>\n",
       "    <tr>\n",
       "      <th>mean</th>\n",
       "      <td>3.239833e+11</td>\n",
       "      <td>8.932175e+01</td>\n",
       "      <td>4.006577e+01</td>\n",
       "      <td>6.323106e+01</td>\n",
       "      <td>3.347066e+01</td>\n",
       "    </tr>\n",
       "    <tr>\n",
       "      <th>std</th>\n",
       "      <td>1.228579e+09</td>\n",
       "      <td>3.965436e+01</td>\n",
       "      <td>3.789499e+00</td>\n",
       "      <td>4.136935e+01</td>\n",
       "      <td>2.294430e+01</td>\n",
       "    </tr>\n",
       "    <tr>\n",
       "      <th>min</th>\n",
       "      <td>3.201180e+11</td>\n",
       "      <td>2.255000e+01</td>\n",
       "      <td>2.600000e+01</td>\n",
       "      <td>0.000000e+00</td>\n",
       "      <td>0.000000e+00</td>\n",
       "    </tr>\n",
       "    <tr>\n",
       "      <th>25%</th>\n",
       "      <td>3.236170e+11</td>\n",
       "      <td>4.515000e+01</td>\n",
       "      <td>3.800000e+01</td>\n",
       "      <td>0.000000e+00</td>\n",
       "      <td>0.000000e+00</td>\n",
       "    </tr>\n",
       "    <tr>\n",
       "      <th>50%</th>\n",
       "      <td>3.236170e+11</td>\n",
       "      <td>9.668000e+01</td>\n",
       "      <td>4.000000e+01</td>\n",
       "      <td>8.900000e+01</td>\n",
       "      <td>4.300000e+01</td>\n",
       "    </tr>\n",
       "    <tr>\n",
       "      <th>75%</th>\n",
       "      <td>3.250170e+11</td>\n",
       "      <td>1.213400e+02</td>\n",
       "      <td>4.200000e+01</td>\n",
       "      <td>9.200000e+01</td>\n",
       "      <td>5.100000e+01</td>\n",
       "    </tr>\n",
       "    <tr>\n",
       "      <th>max</th>\n",
       "      <td>3.252170e+11</td>\n",
       "      <td>1.970100e+02</td>\n",
       "      <td>5.500000e+01</td>\n",
       "      <td>1.000000e+02</td>\n",
       "      <td>8.300000e+01</td>\n",
       "    </tr>\n",
       "  </tbody>\n",
       "</table>\n",
       "</div>"
      ],
      "text/plain": [
       "          gpuSerial  powerDrawWatt      gpuTempC   gpuUtilPerc  gpuMemUtilPerc\n",
       "count  1.048575e+06   1.048575e+06  1.048575e+06  1.048575e+06    1.048575e+06\n",
       "mean   3.239833e+11   8.932175e+01  4.006577e+01  6.323106e+01    3.347066e+01\n",
       "std    1.228579e+09   3.965436e+01  3.789499e+00  4.136935e+01    2.294430e+01\n",
       "min    3.201180e+11   2.255000e+01  2.600000e+01  0.000000e+00    0.000000e+00\n",
       "25%    3.236170e+11   4.515000e+01  3.800000e+01  0.000000e+00    0.000000e+00\n",
       "50%    3.236170e+11   9.668000e+01  4.000000e+01  8.900000e+01    4.300000e+01\n",
       "75%    3.250170e+11   1.213400e+02  4.200000e+01  9.200000e+01    5.100000e+01\n",
       "max    3.252170e+11   1.970100e+02  5.500000e+01  1.000000e+02    8.300000e+01"
      ]
     },
     "execution_count": 20,
     "metadata": {},
     "output_type": "execute_result"
    }
   ],
   "source": [
    "df_gpu.describe()"
   ]
  },
  {
   "cell_type": "markdown",
   "id": "36ac3bc4",
   "metadata": {},
   "source": [
    "<b>Summary of GPU File:</b>\n",
    "\n",
    "- Rendering image is processed on 12 GPUs of 1024MB\n",
    "- GPU file consist of timestamp ,hostname, gpuSerial, gpuUUID, powerDrawWatt, gpuTempC, gpuUtilPerc, gpuMemUtilPerc\n",
    "\n",
    "- It contains <b>1048575 Rows</b> and <b>8 Columns</b>\n",
    "- 5 variables:\n",
    "    - <b>timestamp: </b> Timestamp of GPU utilization instance\n",
    "    - <b>hostname: </b> Hostname of Azure virtual machine\n",
    "    - <b>gpuSerial: </b> Serial Number of GPU card\n",
    "    - <b>gpuUUID: </b> Azure GPU system ID\n",
    "    - <b>powerDrawWatt: </b> Power Drawn by GPU (Watts)\n",
    "    - <b>gpuTempC: </b> GPU Temperature (°C)\n",
    "    - <b>gpuUtilPerc: </b> GPU core utilization\n",
    "    - <b>gpuMemUtilPerc: </b> GPU memory utilization\n",
    "\n",
    "- Primary important variable are timestamp to merge dataset, gpuSerial, gpuUUID, powerDrawWatt, gpuTempC, gpuUtilPerc, gpuMemUtilPerc parameters to evaluate GPU performance in image visuals."
   ]
  },
  {
   "cell_type": "markdown",
   "id": "a01e0bdb",
   "metadata": {},
   "source": [
    "## 4. Data Preparation"
   ]
  },
  {
   "cell_type": "markdown",
   "id": "cd7f9140",
   "metadata": {},
   "source": [
    "#### 4.1 Cleaning Datafiles"
   ]
  },
  {
   "cell_type": "markdown",
   "id": "cf59f0bd",
   "metadata": {},
   "source": [
    "##### 4.1.1 Cleaning checkpoint file"
   ]
  },
  {
   "cell_type": "code",
   "execution_count": 26,
   "id": "68e6f64e",
   "metadata": {},
   "outputs": [
    {
     "data": {
      "text/html": [
       "<div>\n",
       "<style scoped>\n",
       "    .dataframe tbody tr th:only-of-type {\n",
       "        vertical-align: middle;\n",
       "    }\n",
       "\n",
       "    .dataframe tbody tr th {\n",
       "        vertical-align: top;\n",
       "    }\n",
       "\n",
       "    .dataframe thead th {\n",
       "        text-align: right;\n",
       "    }\n",
       "</style>\n",
       "<table border=\"1\" class=\"dataframe\">\n",
       "  <thead>\n",
       "    <tr style=\"text-align: right;\">\n",
       "      <th></th>\n",
       "      <th>timestamp</th>\n",
       "      <th>hostname</th>\n",
       "      <th>eventName</th>\n",
       "      <th>eventType</th>\n",
       "      <th>jobId</th>\n",
       "      <th>taskId</th>\n",
       "    </tr>\n",
       "  </thead>\n",
       "  <tbody>\n",
       "    <tr>\n",
       "      <th>263223</th>\n",
       "      <td>2018-11-08 08:30:16.345000+00:00</td>\n",
       "      <td>6139a35676de44d6b61ec247f0ed8657000013</td>\n",
       "      <td>Uploading</td>\n",
       "      <td>STOP</td>\n",
       "      <td>1024-lvl12-7e026be3-5fd0-48ee-b7d1-abd61f747705</td>\n",
       "      <td>09f07f53-8b9a-46ce-ae80-ef57bfcdc14e</td>\n",
       "    </tr>\n",
       "    <tr>\n",
       "      <th>75919</th>\n",
       "      <td>2018-11-08 08:30:16.345000+00:00</td>\n",
       "      <td>6139a35676de44d6b61ec247f0ed8657000013</td>\n",
       "      <td>TotalRender</td>\n",
       "      <td>STOP</td>\n",
       "      <td>1024-lvl12-7e026be3-5fd0-48ee-b7d1-abd61f747705</td>\n",
       "      <td>09f07f53-8b9a-46ce-ae80-ef57bfcdc14e</td>\n",
       "    </tr>\n",
       "    <tr>\n",
       "      <th>75922</th>\n",
       "      <td>2018-11-08 08:30:16.277000+00:00</td>\n",
       "      <td>6139a35676de44d6b61ec247f0ed8657000013</td>\n",
       "      <td>Tiling</td>\n",
       "      <td>STOP</td>\n",
       "      <td>1024-lvl12-7e026be3-5fd0-48ee-b7d1-abd61f747705</td>\n",
       "      <td>09f07f53-8b9a-46ce-ae80-ef57bfcdc14e</td>\n",
       "    </tr>\n",
       "  </tbody>\n",
       "</table>\n",
       "</div>"
      ],
      "text/plain": [
       "                              timestamp  \\\n",
       "263223 2018-11-08 08:30:16.345000+00:00   \n",
       "75919  2018-11-08 08:30:16.345000+00:00   \n",
       "75922  2018-11-08 08:30:16.277000+00:00   \n",
       "\n",
       "                                      hostname    eventName eventType  \\\n",
       "263223  6139a35676de44d6b61ec247f0ed8657000013    Uploading      STOP   \n",
       "75919   6139a35676de44d6b61ec247f0ed8657000013  TotalRender      STOP   \n",
       "75922   6139a35676de44d6b61ec247f0ed8657000013       Tiling      STOP   \n",
       "\n",
       "                                                  jobId  \\\n",
       "263223  1024-lvl12-7e026be3-5fd0-48ee-b7d1-abd61f747705   \n",
       "75919   1024-lvl12-7e026be3-5fd0-48ee-b7d1-abd61f747705   \n",
       "75922   1024-lvl12-7e026be3-5fd0-48ee-b7d1-abd61f747705   \n",
       "\n",
       "                                      taskId  \n",
       "263223  09f07f53-8b9a-46ce-ae80-ef57bfcdc14e  \n",
       "75919   09f07f53-8b9a-46ce-ae80-ef57bfcdc14e  \n",
       "75922   09f07f53-8b9a-46ce-ae80-ef57bfcdc14e  "
      ]
     },
     "execution_count": 26,
     "metadata": {},
     "output_type": "execute_result"
    }
   ],
   "source": [
    "# Data de-duplication\n",
    "df_checkpoints.drop_duplicates()\n",
    "# remove missing values\n",
    "df_checkpoints.dropna()\n",
    "# format timestamp\n",
    "df_checkpoints['timestamp'] = pd.to_datetime(df_checkpoints['timestamp'])\n",
    "df_checkpoints.head(3)"
   ]
  },
  {
   "cell_type": "markdown",
   "id": "e088782d",
   "metadata": {},
   "source": [
    "##### 4.1.2 Cleaning task x, y file"
   ]
  },
  {
   "cell_type": "code",
   "execution_count": 27,
   "id": "de479d43",
   "metadata": {},
   "outputs": [
    {
     "data": {
      "text/html": [
       "<div>\n",
       "<style scoped>\n",
       "    .dataframe tbody tr th:only-of-type {\n",
       "        vertical-align: middle;\n",
       "    }\n",
       "\n",
       "    .dataframe tbody tr th {\n",
       "        vertical-align: top;\n",
       "    }\n",
       "\n",
       "    .dataframe thead th {\n",
       "        text-align: right;\n",
       "    }\n",
       "</style>\n",
       "<table border=\"1\" class=\"dataframe\">\n",
       "  <thead>\n",
       "    <tr style=\"text-align: right;\">\n",
       "      <th></th>\n",
       "      <th>taskId</th>\n",
       "      <th>jobId</th>\n",
       "      <th>x</th>\n",
       "      <th>y</th>\n",
       "      <th>level</th>\n",
       "    </tr>\n",
       "  </thead>\n",
       "  <tbody>\n",
       "    <tr>\n",
       "      <th>0</th>\n",
       "      <td>00004e77-304c-4fbd-88a1-1346ef947567</td>\n",
       "      <td>1024-lvl12-7e026be3-5fd0-48ee-b7d1-abd61f747705</td>\n",
       "      <td>116</td>\n",
       "      <td>178</td>\n",
       "      <td>12</td>\n",
       "    </tr>\n",
       "    <tr>\n",
       "      <th>1</th>\n",
       "      <td>0002afb5-d05e-4da9-bd53-7b6dc19ea6d4</td>\n",
       "      <td>1024-lvl12-7e026be3-5fd0-48ee-b7d1-abd61f747705</td>\n",
       "      <td>142</td>\n",
       "      <td>190</td>\n",
       "      <td>12</td>\n",
       "    </tr>\n",
       "    <tr>\n",
       "      <th>2</th>\n",
       "      <td>0003c380-4db9-49fb-8e1c-6f8ae466ad85</td>\n",
       "      <td>1024-lvl12-7e026be3-5fd0-48ee-b7d1-abd61f747705</td>\n",
       "      <td>142</td>\n",
       "      <td>86</td>\n",
       "      <td>12</td>\n",
       "    </tr>\n",
       "  </tbody>\n",
       "</table>\n",
       "</div>"
      ],
      "text/plain": [
       "                                 taskId  \\\n",
       "0  00004e77-304c-4fbd-88a1-1346ef947567   \n",
       "1  0002afb5-d05e-4da9-bd53-7b6dc19ea6d4   \n",
       "2  0003c380-4db9-49fb-8e1c-6f8ae466ad85   \n",
       "\n",
       "                                             jobId    x    y  level  \n",
       "0  1024-lvl12-7e026be3-5fd0-48ee-b7d1-abd61f747705  116  178     12  \n",
       "1  1024-lvl12-7e026be3-5fd0-48ee-b7d1-abd61f747705  142  190     12  \n",
       "2  1024-lvl12-7e026be3-5fd0-48ee-b7d1-abd61f747705  142   86     12  "
      ]
     },
     "execution_count": 27,
     "metadata": {},
     "output_type": "execute_result"
    }
   ],
   "source": [
    "# Data de-duplication\n",
    "df_task_xy.drop_duplicates()\n",
    "# remove missing values\n",
    "df_task_xy.dropna()\n",
    "df_task_xy.head(3)"
   ]
  },
  {
   "cell_type": "markdown",
   "id": "9c48cab4",
   "metadata": {},
   "source": [
    "##### 4.1.3 Cleaning GPU file"
   ]
  },
  {
   "cell_type": "code",
   "execution_count": 30,
   "id": "1326f2f2",
   "metadata": {
    "scrolled": true
   },
   "outputs": [
    {
     "data": {
      "text/html": [
       "<div>\n",
       "<style scoped>\n",
       "    .dataframe tbody tr th:only-of-type {\n",
       "        vertical-align: middle;\n",
       "    }\n",
       "\n",
       "    .dataframe tbody tr th {\n",
       "        vertical-align: top;\n",
       "    }\n",
       "\n",
       "    .dataframe thead th {\n",
       "        text-align: right;\n",
       "    }\n",
       "</style>\n",
       "<table border=\"1\" class=\"dataframe\">\n",
       "  <thead>\n",
       "    <tr style=\"text-align: right;\">\n",
       "      <th></th>\n",
       "      <th>timestamp</th>\n",
       "      <th>hostname</th>\n",
       "      <th>gpuSerial</th>\n",
       "      <th>gpuUUID</th>\n",
       "      <th>powerDrawWatt</th>\n",
       "      <th>gpuTempC</th>\n",
       "      <th>gpuUtilPerc</th>\n",
       "      <th>gpuMemUtilPerc</th>\n",
       "    </tr>\n",
       "  </thead>\n",
       "  <tbody>\n",
       "    <tr>\n",
       "      <th>0</th>\n",
       "      <td>2018-11-08 08:27:10.314000+00:00</td>\n",
       "      <td>8b6a0eebc87b4cb2b0539e81075191b900001C</td>\n",
       "      <td>3.232170e+11</td>\n",
       "      <td>GPU-1d1602dc-f615-a7c7-ab53-fb4a7a479534</td>\n",
       "      <td>131.55</td>\n",
       "      <td>48</td>\n",
       "      <td>92</td>\n",
       "      <td>53</td>\n",
       "    </tr>\n",
       "    <tr>\n",
       "      <th>1</th>\n",
       "      <td>2018-11-08 08:27:10.192000+00:00</td>\n",
       "      <td>d8241877cd994572b46c861e5d144c85000000</td>\n",
       "      <td>3.236170e+11</td>\n",
       "      <td>GPU-04a2dea7-f4f1-12d0-b94d-996446746e6f</td>\n",
       "      <td>117.03</td>\n",
       "      <td>40</td>\n",
       "      <td>92</td>\n",
       "      <td>48</td>\n",
       "    </tr>\n",
       "    <tr>\n",
       "      <th>2</th>\n",
       "      <td>2018-11-08 08:27:10.842000+00:00</td>\n",
       "      <td>db871cd77a544e13bc791a64a0c8ed50000006</td>\n",
       "      <td>3.232170e+11</td>\n",
       "      <td>GPU-f4597939-a0b4-e78a-2436-12dbab9a350f</td>\n",
       "      <td>121.64</td>\n",
       "      <td>45</td>\n",
       "      <td>91</td>\n",
       "      <td>44</td>\n",
       "    </tr>\n",
       "  </tbody>\n",
       "</table>\n",
       "</div>"
      ],
      "text/plain": [
       "                         timestamp                                hostname  \\\n",
       "0 2018-11-08 08:27:10.314000+00:00  8b6a0eebc87b4cb2b0539e81075191b900001C   \n",
       "1 2018-11-08 08:27:10.192000+00:00  d8241877cd994572b46c861e5d144c85000000   \n",
       "2 2018-11-08 08:27:10.842000+00:00  db871cd77a544e13bc791a64a0c8ed50000006   \n",
       "\n",
       "      gpuSerial                                   gpuUUID  powerDrawWatt  \\\n",
       "0  3.232170e+11  GPU-1d1602dc-f615-a7c7-ab53-fb4a7a479534         131.55   \n",
       "1  3.236170e+11  GPU-04a2dea7-f4f1-12d0-b94d-996446746e6f         117.03   \n",
       "2  3.232170e+11  GPU-f4597939-a0b4-e78a-2436-12dbab9a350f         121.64   \n",
       "\n",
       "   gpuTempC  gpuUtilPerc  gpuMemUtilPerc  \n",
       "0        48           92              53  \n",
       "1        40           92              48  \n",
       "2        45           91              44  "
      ]
     },
     "execution_count": 30,
     "metadata": {},
     "output_type": "execute_result"
    }
   ],
   "source": [
    "# Data de-duplication\n",
    "df_gpu.drop_duplicates()\n",
    "# remove missing values\n",
    "df_gpu.dropna()\n",
    "# format timestamp\n",
    "df_gpu['timestamp'] = pd.to_datetime(df_gpu['timestamp'])\n",
    "df_gpu.head(3)"
   ]
  },
  {
   "cell_type": "markdown",
   "id": "560f31db",
   "metadata": {},
   "source": [
    "#### 4.2 Datafiles Operations"
   ]
  },
  {
   "cell_type": "markdown",
   "id": "e2f17a9f",
   "metadata": {},
   "source": [
    "<b>Merging checkpoint and task-x-y file<b>\n",
    "- Merging two file as <b>left joint</b> with respect to <b>jobId, taskId</b>\n",
    "- taskId are distinct for each tile, which are processed in five event (Saving Config, Render, Tiling, Uploading, Total Render), thus remains to be effective primary key for merging."
   ]
  },
  {
   "cell_type": "code",
   "execution_count": null,
   "id": "b4ae30bb",
   "metadata": {},
   "outputs": [],
   "source": [
    "# Merging checkpoint and task-x-y file with respect to 'taskId'\n",
    "df_check_xy = pd.merge(df_checkpoints, df_task_xy, on=['jobId', 'taskId'], how='left')\n",
    "\n",
    "# Formating timestamp\n",
    "df_check_xy['timestamp'] = pd.to_datetime(df_check_xy['timestamp'])\n",
    "\n",
    "# Sorting merged file by timestamp\n",
    "df_check_xy = df_check_xy.sort_values(by='timestamp', ascending=False)\n",
    "\n",
    "# Removing cloned jobId column and renaming column name\n",
    "del df_check_xy['jobId_y']\n",
    "df_check_xy  = df_check_xy .rename(columns={'jobId_x': 'jobId'})\n",
    "\n",
    "# Variable df_check_xy stores merged dataframe\n",
    "df_check_xy.head(3)"
   ]
  },
  {
   "cell_type": "code",
   "execution_count": null,
   "id": "4abd5f71",
   "metadata": {},
   "outputs": [],
   "source": []
  },
  {
   "cell_type": "code",
   "execution_count": null,
   "id": "92cd5583",
   "metadata": {},
   "outputs": [],
   "source": []
  },
  {
   "cell_type": "markdown",
   "id": "69e9a256",
   "metadata": {},
   "source": [
    "## 5. Exploratory Data Analysis & Modeling"
   ]
  },
  {
   "cell_type": "markdown",
   "id": "27781e1d",
   "metadata": {},
   "source": [
    "### 5.1 Determining Processing Time for Each Event and determining the dominance of the Event"
   ]
  },
  {
   "cell_type": "markdown",
   "id": "e931bfbd",
   "metadata": {},
   "source": [
    "### 5.2 Visualizing the relation between GPU parameters to generate image tiles."
   ]
  },
  {
   "cell_type": "markdown",
   "id": "0b0f0769",
   "metadata": {},
   "source": [
    "### 5.3 Visualizing the relation between GPU Power Utilization and GPU Temperature"
   ]
  },
  {
   "cell_type": "markdown",
   "id": "a06c1226",
   "metadata": {},
   "source": [
    "### 5.4 Comparison between GPU series with Power Utilization"
   ]
  },
  {
   "cell_type": "markdown",
   "id": "9e193ccd",
   "metadata": {},
   "source": [
    "### 5.5 Energy Consumption for rendering each Event"
   ]
  },
  {
   "cell_type": "markdown",
   "id": "26553008",
   "metadata": {},
   "source": [
    "### 5.6 Relation plot of Render time and GPU Power consumption"
   ]
  },
  {
   "cell_type": "markdown",
   "id": "b9212587",
   "metadata": {},
   "source": [
    "## 6. Evaluation"
   ]
  },
  {
   "cell_type": "markdown",
   "id": "4e6681f5",
   "metadata": {},
   "source": [
    "# Future Scope"
   ]
  },
  {
   "cell_type": "markdown",
   "id": "21a58736",
   "metadata": {},
   "source": [
    "# Brief Review"
   ]
  },
  {
   "cell_type": "markdown",
   "id": "f206f11f",
   "metadata": {},
   "source": [
    "# References"
   ]
  },
  {
   "cell_type": "code",
   "execution_count": null,
   "id": "282a5c43",
   "metadata": {},
   "outputs": [],
   "source": []
  }
 ],
 "metadata": {
  "kernelspec": {
   "display_name": "Python 3 (ipykernel)",
   "language": "python",
   "name": "python3"
  },
  "language_info": {
   "codemirror_mode": {
    "name": "ipython",
    "version": 3
   },
   "file_extension": ".py",
   "mimetype": "text/x-python",
   "name": "python",
   "nbconvert_exporter": "python",
   "pygments_lexer": "ipython3",
   "version": "3.10.9"
  }
 },
 "nbformat": 4,
 "nbformat_minor": 5
}
