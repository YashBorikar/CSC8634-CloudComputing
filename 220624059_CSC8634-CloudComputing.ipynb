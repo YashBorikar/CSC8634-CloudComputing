{
 "cells": [
  {
   "cell_type": "markdown",
   "id": "916a7fc9",
   "metadata": {},
   "source": [
    "Student Number: <b>220624059</b>\\\n",
    "Name: <b>Yash Borikar</b>\\\n",
    "Subject: <b>CSC8634 - Cloud Computing</b>\\\n",
    "Dataset: <b>Performance evaluation of Terapixel rendering in Cloud Computing</b>\\\n",
    "Date: <b>May 8, 2023</b>"
   ]
  },
  {
   "cell_type": "markdown",
   "id": "5ff1312e",
   "metadata": {},
   "source": [
    "---"
   ]
  },
  {
   "cell_type": "code",
   "execution_count": null,
   "id": "bee08663",
   "metadata": {},
   "outputs": [],
   "source": []
  }
 ],
 "metadata": {
  "kernelspec": {
   "display_name": "Python 3 (ipykernel)",
   "language": "python",
   "name": "python3"
  },
  "language_info": {
   "codemirror_mode": {
    "name": "ipython",
    "version": 3
   },
   "file_extension": ".py",
   "mimetype": "text/x-python",
   "name": "python",
   "nbconvert_exporter": "python",
   "pygments_lexer": "ipython3",
   "version": "3.10.9"
  }
 },
 "nbformat": 4,
 "nbformat_minor": 5
}
